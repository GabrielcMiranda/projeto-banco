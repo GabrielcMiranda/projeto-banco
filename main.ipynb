{
 "cells": [
  {
   "cell_type": "code",
   "execution_count": 2,
   "id": "11683ef2",
   "metadata": {},
   "outputs": [],
   "source": [
    "import pandas as pd"
   ]
  },
  {
   "cell_type": "code",
   "execution_count": 3,
   "id": "b8a88c36",
   "metadata": {},
   "outputs": [],
   "source": [
    "df = pd.read_csv('games.csv', index_col=False)"
   ]
  },
  {
   "cell_type": "code",
   "execution_count": 4,
   "id": "1bfa40d7",
   "metadata": {},
   "outputs": [
    {
     "name": "stdout",
     "output_type": "stream",
     "text": [
      "<class 'pandas.core.frame.DataFrame'>\n",
      "RangeIndex: 111452 entries, 0 to 111451\n",
      "Data columns (total 40 columns):\n",
      " #   Column                      Non-Null Count   Dtype  \n",
      "---  ------                      --------------   -----  \n",
      " 0   AppID                       111452 non-null  int64  \n",
      " 1   Name                        111446 non-null  object \n",
      " 2   Release date                111452 non-null  object \n",
      " 3   Estimated owners            111452 non-null  object \n",
      " 4   Peak CCU                    111452 non-null  int64  \n",
      " 5   Required age                111452 non-null  int64  \n",
      " 6   Price                       111452 non-null  float64\n",
      " 7   Discount                    111452 non-null  int64  \n",
      " 8   DLC count                   111452 non-null  int64  \n",
      " 9   About the game              104969 non-null  object \n",
      " 10  Supported languages         111452 non-null  object \n",
      " 11  Full audio languages        111452 non-null  object \n",
      " 12  Reviews                     10624 non-null   object \n",
      " 13  Header image                111452 non-null  object \n",
      " 14  Website                     46458 non-null   object \n",
      " 15  Support url                 50759 non-null   object \n",
      " 16  Support email               92427 non-null   object \n",
      " 17  Windows                     111452 non-null  bool   \n",
      " 18  Mac                         111452 non-null  bool   \n",
      " 19  Linux                       111452 non-null  bool   \n",
      " 20  Metacritic score            111452 non-null  int64  \n",
      " 21  Metacritic url              4005 non-null    object \n",
      " 22  User score                  111452 non-null  int64  \n",
      " 23  Positive                    111452 non-null  int64  \n",
      " 24  Negative                    111452 non-null  int64  \n",
      " 25  Score rank                  44 non-null      float64\n",
      " 26  Achievements                111452 non-null  int64  \n",
      " 27  Recommendations             111452 non-null  int64  \n",
      " 28  Notes                       18449 non-null   object \n",
      " 29  Average playtime forever    111452 non-null  int64  \n",
      " 30  Average playtime two weeks  111452 non-null  int64  \n",
      " 31  Median playtime forever     111452 non-null  int64  \n",
      " 32  Median playtime two weeks   111452 non-null  int64  \n",
      " 33  Developers                  104977 non-null  object \n",
      " 34  Publishers                  104674 non-null  object \n",
      " 35  Categories                  103886 non-null  object \n",
      " 36  Genres                      105012 non-null  object \n",
      " 37  Tags                        74029 non-null   object \n",
      " 38  Screenshots                 107260 non-null  object \n",
      " 39  Movies                      101832 non-null  object \n",
      "dtypes: bool(3), float64(2), int64(15), object(20)\n",
      "memory usage: 31.8+ MB\n"
     ]
    }
   ],
   "source": [
    "df.info()"
   ]
  },
  {
   "cell_type": "code",
   "execution_count": 5,
   "id": "d4431d03",
   "metadata": {},
   "outputs": [
    {
     "data": {
      "text/plain": [
       "(111452, 40)"
      ]
     },
     "execution_count": 5,
     "metadata": {},
     "output_type": "execute_result"
    }
   ],
   "source": [
    "df.shape"
   ]
  },
  {
   "cell_type": "code",
   "execution_count": 6,
   "id": "bed2c936",
   "metadata": {},
   "outputs": [
    {
     "data": {
      "text/plain": [
       "AppID                              0\n",
       "Name                               6\n",
       "Release date                       0\n",
       "Estimated owners                   0\n",
       "Peak CCU                           0\n",
       "Required age                       0\n",
       "Price                              0\n",
       "Discount                           0\n",
       "DLC count                          0\n",
       "About the game                  6483\n",
       "Supported languages                0\n",
       "Full audio languages               0\n",
       "Reviews                       100828\n",
       "Header image                       0\n",
       "Website                        64994\n",
       "Support url                    60693\n",
       "Support email                  19025\n",
       "Windows                            0\n",
       "Mac                                0\n",
       "Linux                              0\n",
       "Metacritic score                   0\n",
       "Metacritic url                107447\n",
       "User score                         0\n",
       "Positive                           0\n",
       "Negative                           0\n",
       "Score rank                    111408\n",
       "Achievements                       0\n",
       "Recommendations                    0\n",
       "Notes                          93003\n",
       "Average playtime forever           0\n",
       "Average playtime two weeks         0\n",
       "Median playtime forever            0\n",
       "Median playtime two weeks          0\n",
       "Developers                      6475\n",
       "Publishers                      6778\n",
       "Categories                      7566\n",
       "Genres                          6440\n",
       "Tags                           37423\n",
       "Screenshots                     4192\n",
       "Movies                          9620\n",
       "dtype: int64"
      ]
     },
     "execution_count": 6,
     "metadata": {},
     "output_type": "execute_result"
    }
   ],
   "source": [
    "df.isnull().sum()"
   ]
  },
  {
   "cell_type": "code",
   "execution_count": 7,
   "id": "ad97aca8",
   "metadata": {},
   "outputs": [
    {
     "data": {
      "text/plain": [
       "AppID                                                                     20200\n",
       "Name                                                           Galactic Bowling\n",
       "Release date                                                       Oct 21, 2008\n",
       "Estimated owners                                                      0 - 20000\n",
       "Peak CCU                                                                      0\n",
       "Required age                                                                  0\n",
       "Price                                                                     19.99\n",
       "Discount                                                                      0\n",
       "DLC count                                                                     0\n",
       "About the game                Galactic Bowling is an exaggerated and stylize...\n",
       "Supported languages                                                 ['English']\n",
       "Full audio languages                                                         []\n",
       "Reviews                                                                     NaN\n",
       "Header image                  https://cdn.akamai.steamstatic.com/steam/apps/...\n",
       "Website                                          http://www.galacticbowling.net\n",
       "Support url                                                                 NaN\n",
       "Support email                                                               NaN\n",
       "Windows                                                                    True\n",
       "Mac                                                                       False\n",
       "Linux                                                                     False\n",
       "Metacritic score                                                              0\n",
       "Metacritic url                                                              NaN\n",
       "User score                                                                    0\n",
       "Positive                                                                      6\n",
       "Negative                                                                     11\n",
       "Score rank                                                                  NaN\n",
       "Achievements                                                                 30\n",
       "Recommendations                                                               0\n",
       "Notes                                                                       NaN\n",
       "Average playtime forever                                                      0\n",
       "Average playtime two weeks                                                    0\n",
       "Median playtime forever                                                       0\n",
       "Median playtime two weeks                                                     0\n",
       "Developers                                                Perpetual FX Creative\n",
       "Publishers                                                Perpetual FX Creative\n",
       "Categories                    Single-player,Multi-player,Steam Achievements,...\n",
       "Genres                                                      Casual,Indie,Sports\n",
       "Tags                                                Indie,Casual,Sports,Bowling\n",
       "Screenshots                   https://cdn.akamai.steamstatic.com/steam/apps/...\n",
       "Movies                        http://cdn.akamai.steamstatic.com/steam/apps/2...\n",
       "Name: 0, dtype: object"
      ]
     },
     "metadata": {},
     "output_type": "display_data"
    }
   ],
   "source": [
    "display(df.iloc[0])"
   ]
  },
  {
   "cell_type": "code",
   "execution_count": 12,
   "id": "28232563",
   "metadata": {},
   "outputs": [
    {
     "data": {
      "text/plain": [
       "AppID                                                                   1355720\n",
       "Name                                                                   Henosis™\n",
       "Release date                                                       Jul 23, 2020\n",
       "Estimated owners                                                      0 - 20000\n",
       "Peak CCU                                                                      0\n",
       "Required age                                                                  0\n",
       "Price                                                                      5.99\n",
       "Discount                                                                      0\n",
       "DLC count                                                                     0\n",
       "About the game                HENOSIS™ is a mysterious 2D Platform Puzzler w...\n",
       "Supported languages           ['English', 'French', 'Italian', 'German', 'Sp...\n",
       "Full audio languages                                                         []\n",
       "Reviews                                                                     NaN\n",
       "Header image                  https://cdn.akamai.steamstatic.com/steam/apps/...\n",
       "Website                                                https://henosisgame.com/\n",
       "Support url                                            https://henosisgame.com/\n",
       "Support email                                              info@henosisgame.com\n",
       "Windows                                                                    True\n",
       "Mac                                                                        True\n",
       "Linux                                                                      True\n",
       "Metacritic score                                                              0\n",
       "Metacritic url                                                              NaN\n",
       "User score                                                                    0\n",
       "Positive                                                                      3\n",
       "Negative                                                                      0\n",
       "Score rank                                                                  NaN\n",
       "Achievements                                                                  0\n",
       "Recommendations                                                               0\n",
       "Notes                                                                       NaN\n",
       "Average playtime forever                                                      0\n",
       "Average playtime two weeks                                                    0\n",
       "Median playtime forever                                                       0\n",
       "Median playtime two weeks                                                     0\n",
       "Developers                                                    Odd Critter Games\n",
       "Publishers                                                    Odd Critter Games\n",
       "Categories                                Single-player,Full controller support\n",
       "Genres                                                   Adventure,Casual,Indie\n",
       "Tags                          2D Platformer,Atmospheric,Surreal,Mystery,Puzz...\n",
       "Screenshots                   https://cdn.akamai.steamstatic.com/steam/apps/...\n",
       "Movies                        http://cdn.akamai.steamstatic.com/steam/apps/2...\n",
       "Name: 3, dtype: object"
      ]
     },
     "metadata": {},
     "output_type": "display_data"
    }
   ],
   "source": [
    "display(df.iloc[3])"
   ]
  },
  {
   "cell_type": "code",
   "execution_count": 17,
   "id": "935930b7",
   "metadata": {},
   "outputs": [
    {
     "data": {
      "text/plain": [
       "array(['Casual,Indie,Sports', 'Action,Indie',\n",
       "       'Action,Adventure,Indie,Strategy', ...,\n",
       "       'Action,Racing,Free To Play,Early Access',\n",
       "       'Action,Casual,Indie,Massively Multiplayer,RPG,Strategy',\n",
       "       'Indie,Massively Multiplayer,Strategy,Free To Play'],\n",
       "      shape=(3158,), dtype=object)"
      ]
     },
     "execution_count": 17,
     "metadata": {},
     "output_type": "execute_result"
    }
   ],
   "source": [
    "df['Genres'].unique()"
   ]
  }
 ],
 "metadata": {
  "kernelspec": {
   "display_name": "Python 3",
   "language": "python",
   "name": "python3"
  },
  "language_info": {
   "codemirror_mode": {
    "name": "ipython",
    "version": 3
   },
   "file_extension": ".py",
   "mimetype": "text/x-python",
   "name": "python",
   "nbconvert_exporter": "python",
   "pygments_lexer": "ipython3",
   "version": "3.11.9"
  }
 },
 "nbformat": 4,
 "nbformat_minor": 5
}
